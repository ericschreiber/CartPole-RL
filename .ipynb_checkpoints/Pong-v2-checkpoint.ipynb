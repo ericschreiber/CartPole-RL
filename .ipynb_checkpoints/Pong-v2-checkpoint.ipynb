{
 "cells": [
  {
   "cell_type": "code",
   "execution_count": 2,
   "id": "7043f946-667a-46c0-9736-073b210f5c3b",
   "metadata": {},
   "outputs": [],
   "source": [
    "import gym\n",
    "import sys\n",
    "import random\n",
    "import numpy as np\n",
    "import tensorflow as tf\n",
    "from tensorflow.keras.models import Sequential\n",
    "from tensorflow.keras.layers import Dense, Flatten, Reshape, Conv2D\n",
    "from tensorflow.keras.optimizers import Adam\n",
    "from rl.agents import DQNAgent\n",
    "from rl.policy import BoltzmannQPolicy #Probalistic approch to also try some new paths from time to time\n",
    "from rl.memory import SequentialMemory\n",
    "import matplotlib.pyplot as plt\n"
   ]
  },
  {
   "cell_type": "code",
   "execution_count": 3,
   "id": "2618a7ae-997a-42a8-afa9-25fc434b50d8",
   "metadata": {},
   "outputs": [],
   "source": [
    "import collections\n",
    "import cv2"
   ]
  },
  {
   "cell_type": "code",
   "execution_count": 4,
   "id": "f068d80b-f708-47a2-8f91-ebef74a343fc",
   "metadata": {},
   "outputs": [],
   "source": [
    "#gym wrapper\n",
    "class ProcessFrame84(gym.ObservationWrapper):\n",
    "    def __init__(self, env=None):\n",
    "        super(ProcessFrame84, self).__init__(env)\n",
    "        self.observation_space = gym.spaces.Box(low=0, high=255, shape=(84, 84, 1), dtype=np.uint8)\n",
    "        \n",
    "    def observation(self, obs):\n",
    "        return ProcessFrame84.process(obs)\n",
    "\n",
    "    @staticmethod\n",
    "    def process(frame):\n",
    "        if frame.size == 210 * 160 * 3:\n",
    "            img = np.reshape(frame, [210, 160,  3]).astype(np.float32)\n",
    "        elif frame.size == 250 * 160 * 3:\n",
    "            img = np.reshape(frame, [250, 160, 3]).astype(np.float32)\n",
    "        else:\n",
    "            assert False, \"Unknown resolution.\"  \n",
    "\n",
    "        img = img[:, :, 0] * 0.299 + img[:, :, 1] * 0.587 +  img[:, :, 2] * 0.114\n",
    "        resized_screen = cv2.resize(img, (84, 110), interpolation=cv2.INTER_AREA)\n",
    "        x_t = resized_screen[18:102, :]\n",
    "        x_t = np.reshape(x_t, [84, 84, 1])\n",
    "        return x_t.astype(np.uint8)"
   ]
  },
  {
   "cell_type": "code",
   "execution_count": 5,
   "id": "e15b0e81-2b26-4eaa-9a20-71c2ab5ef386",
   "metadata": {},
   "outputs": [],
   "source": [
    "class FireResetEnv(gym.Wrapper):\n",
    "    def __init__(self, env=None):\n",
    "        super(FireResetEnv, self).__init__(env)\n",
    "        assert env.unwrapped.get_action_meanings()[1] == \"FIRE\"\n",
    "        assert len(env.unwrapped.get_action_meanings()) >= 3\n",
    "        \n",
    "    def step(self, action):\n",
    "        return self.env.step(action)\n",
    "    \n",
    "    def reset(self):\n",
    "        self.env.reset()\n",
    "        obs, _, done, _ = self.env.step(1)\n",
    "        if done:\n",
    "            self.env.reset()\n",
    "        obs, _, done, _ = self.env.step(2)\n",
    "        if done:\n",
    "            self.env.reset()\n",
    "        return obs"
   ]
  },
  {
   "cell_type": "code",
   "execution_count": 6,
   "id": "8ee5422f-4730-4278-bc68-f136eef25314",
   "metadata": {},
   "outputs": [],
   "source": [
    "class MaxAndSkipEnv(gym.Wrapper):\n",
    "    def __init__(self, env=None, skip=4):\n",
    "        super(MaxAndSkipEnv, self).__init__(env)\n",
    "        self._obs_buffer = collections.deque(maxlen=2)\n",
    "        self._skip = skip\n",
    "        \n",
    "    def step(self, action):\n",
    "        total_reward = 0.0\n",
    "        done = None\n",
    "        for _ in range(self._skip):\n",
    "            obs, reward, done, info = self.env.step(action)\n",
    "            self._obs_buffer.append(obs)\n",
    "            total_reward += reward\n",
    "            if done:\n",
    "                break\n",
    "        max_frame = np.max(np.stack(self._obs_buffer), axis=0)\n",
    "        return max_frame, total_reward, done, info\n",
    "    \n",
    "    def reset(self):\n",
    "        self._obs_buffer.clear()\n",
    "        obs = self.env.reset()\n",
    "        self._obs_buffer.append(obs)\n",
    "        return obs"
   ]
  },
  {
   "cell_type": "code",
   "execution_count": 7,
   "id": "1a3b7896-03fa-445b-a970-b448f3c79173",
   "metadata": {},
   "outputs": [],
   "source": [
    "class BufferWrapper(gym.ObservationWrapper):\n",
    "    def __init__(self, env, n_steps, dtype=np.float32):\n",
    "        super(BufferWrapper, self).__init__(env)\n",
    "        self.dtype = dtype\n",
    "        old_space = env.observation_space\n",
    "        self.observation_space = gym.spaces.Box(old_space.low.repeat(n_steps, axis=0),old_space.high.repeat(n_steps, axis=0), dtype=dtype)\n",
    "        \n",
    "    def reset(self):\n",
    "        self.buffer = np.zeros_like(self.observation_space.low,\n",
    "        dtype=self.dtype)\n",
    "        return self.observation(self.env.reset())\n",
    "    \n",
    "    def observation(self, observation):\n",
    "        #self.buffer[:-1] = self.buffer[1:]\n",
    "        #self.buffer[-1] = observation\n",
    "        #return self.buffer\n",
    "        return observation\n",
    "        "
   ]
  },
  {
   "cell_type": "code",
   "execution_count": 8,
   "id": "a8e9914f-8bfb-4b6e-b49d-b59e1aaea327",
   "metadata": {},
   "outputs": [],
   "source": [
    "class ScaledFloatFrame(gym.ObservationWrapper):\n",
    "     def observation(self, obs):\n",
    "        return np.array(obs).astype(np.float32) / 255.0"
   ]
  },
  {
   "cell_type": "code",
   "execution_count": 9,
   "id": "2a66120c-52a2-4cb1-8c67-3f7849c41a59",
   "metadata": {},
   "outputs": [
    {
     "name": "stderr",
     "output_type": "stream",
     "text": [
      "C:\\Users\\erics\\AppData\\Local\\Programs\\Python\\Python39\\lib\\site-packages\\gym\\spaces\\box.py:73: UserWarning: \u001b[33mWARN: Box bound precision lowered by casting to float32\u001b[0m\n",
      "  logger.warn(\n"
     ]
    }
   ],
   "source": [
    "env = gym.make('Pong-v0')#endlich läuft es --endlich--\n",
    "\n",
    "env = MaxAndSkipEnv(env)\n",
    "env = FireResetEnv(env)\n",
    "env = ProcessFrame84(env) \n",
    "env = BufferWrapper(env, 4)\n",
    "env = ScaledFloatFrame(env)\n"
   ]
  },
  {
   "cell_type": "code",
   "execution_count": 10,
   "id": "f26eb2c9-e269-4366-8762-46c14993fc49",
   "metadata": {},
   "outputs": [],
   "source": [
    "states = env.observation_space.shape[0]\n",
    "actions = env.action_space.n"
   ]
  },
  {
   "cell_type": "code",
   "execution_count": 11,
   "id": "b048ac38-24dd-4041-bffe-7b0a3e2cd80e",
   "metadata": {},
   "outputs": [
    {
     "name": "stdout",
     "output_type": "stream",
     "text": [
      "States:336, Actions:6\n"
     ]
    }
   ],
   "source": [
    "print('States:{}, Actions:{}'.format(states, actions))"
   ]
  },
  {
   "cell_type": "code",
   "execution_count": 12,
   "id": "fbcd0e0b-d461-4889-9582-ccf39493c9b5",
   "metadata": {},
   "outputs": [
    {
     "name": "stdout",
     "output_type": "stream",
     "text": [
      "3\n"
     ]
    },
    {
     "data": {
      "text/plain": [
       "<matplotlib.image.AxesImage at 0x152070416d0>"
      ]
     },
     "execution_count": 12,
     "metadata": {},
     "output_type": "execute_result"
    },
    {
     "data": {
      "image/png": "[encoded data removed]",
      "text/plain": [
       "<Figure size 432x288 with 1 Axes>"
      ]
     },
     "metadata": {
      "needs_background": "light"
     },
     "output_type": "display_data"
    }
   ],
   "source": [
    "state = env.reset()\n",
    "\n",
    "print(state.ndim)\n",
    "plt.imshow(state)"
   ]
  },
  {
   "cell_type": "code",
   "execution_count": 13,
   "id": "161b4845-6835-4c5e-9632-4c7bd27d8a83",
   "metadata": {},
   "outputs": [],
   "source": [
    "#random inputs for visualisation\n",
    "for episodes in range(0):\n",
    "    state = env.reset()\n",
    "    done = False\n",
    "    score = 0\n",
    "    \n",
    "    while not done:\n",
    "        env.render()\n",
    "        action = random.choice([2,3])\n",
    "        n_state, reward, done, info = env.step(action)\n",
    "        score += reward\n",
    "    print('Episodes:{} Score:{}'.format(episodes, score))"
   ]
  },
  {
   "cell_type": "code",
   "execution_count": 14,
   "id": "f94fd285-58dc-4be2-a02e-edaf18df9640",
   "metadata": {},
   "outputs": [],
   "source": [
    "#buildt model: input layer -> 2x fully connected -> output layer\n",
    "#The input to the neural\n",
    "#network consists is an 84 ×84 ×4 image produced by φ. The first hidden layer convolves 16 8 ×8\n",
    "#filters with stride 4 with the input image and applies a rectifier nonlinearity [10, 18]. The second\n",
    "#hidden layer convolves 32 4 ×4 filters with stride 2, again followed by a rectifier nonlinearity. The\n",
    "#final hidden layer is fully-connected and consists of 256 rectifier units. The output layer is a fully-\n",
    "#connected linear layer with a single output for each valid action. The number of valid actions varied\n",
    "#between 4 and 18 on the games we considered. We refer to convolutional networks trained with our\n",
    "#approach as Deep Q-Networks (DQN). [Playing Atari with Deep Reinforcement Learning] \n",
    "#I will do it with one image bc its quite late and I want to leave something to do for another day:)\n",
    "def build_model(states, actions):\n",
    "    model = Sequential()\n",
    "    model.add(Conv2D(32, (8, 8),input_shape=(1,84,84,1), strides = 4, activation = 'relu'))\n",
    "    model.add(Conv2D(64, (4, 4), strides = 2, activation = 'relu'))\n",
    "    model.add(Conv2D(64, (3, 3), strides = 1, activation = 'relu'))\n",
    "    \n",
    "    model.add(Flatten())\n",
    "    model.add(Dense(512, activation='relu'))\n",
    "    #model.add(Dense(24, activation='relu'))\n",
    "    model.add(Dense(actions, activation='linear'))\n",
    "    model.summary()\n",
    "    return model"
   ]
  },
  {
   "cell_type": "code",
   "execution_count": 15,
   "id": "48dfd101-005f-4056-a7f1-723d88af2879",
   "metadata": {},
   "outputs": [],
   "source": [
    "def build_agent(model, actions):\n",
    "    policy = BoltzmannQPolicy()\n",
    "    memory = SequentialMemory(limit=50000, window_length=1)\n",
    "    dqn = DQNAgent(model=model, memory=memory, policy=policy, nb_actions=actions, nb_steps_warmup=10, target_model_update=1e-2)\n",
    "    #dqn = DQNAgent(model=model, policy=policy, nb_actions=actions, nb_steps_warmup=10, target_model_update=1e-2)\n",
    "\n",
    "    return dqn"
   ]
  },
  {
   "cell_type": "code",
   "execution_count": 16,
   "id": "e6a9302e-fde9-484a-bb2d-feb53a1d7a50",
   "metadata": {},
   "outputs": [
    {
     "name": "stdout",
     "output_type": "stream",
     "text": [
      "Model: \"sequential\"\n",
      "_________________________________________________________________\n",
      " Layer (type)                Output Shape              Param #   \n",
      "=================================================================\n",
      " conv2d (Conv2D)             (None, 1, 20, 20, 32)     2080      \n",
      "                                                                 \n",
      " conv2d_1 (Conv2D)           (None, 1, 9, 9, 64)       32832     \n",
      "                                                                 \n",
      " conv2d_2 (Conv2D)           (None, 1, 7, 7, 64)       36928     \n",
      "                                                                 \n",
      " flatten (Flatten)           (None, 3136)              0         \n",
      "                                                                 \n",
      " dense (Dense)               (None, 512)               1606144   \n",
      "                                                                 \n",
      " dense_1 (Dense)             (None, 6)                 3078      \n",
      "                                                                 \n",
      "=================================================================\n",
      "Total params: 1,681,062\n",
      "Trainable params: 1,681,062\n",
      "Non-trainable params: 0\n",
      "_________________________________________________________________\n"
     ]
    }
   ],
   "source": [
    "model = build_model(states, actions)"
   ]
  },
  {
   "cell_type": "code",
   "execution_count": 19,
   "id": "7c1eca6b-8e1b-4be3-a8b1-b71632fb8f9f",
   "metadata": {},
   "outputs": [],
   "source": [
    "dqn = build_agent(model, actions)\n",
    "dqn.compile(Adam(learning_rate=1e-3), metrics=['mae'])"
   ]
  },
  {
   "cell_type": "code",
   "execution_count": 21,
   "id": "8026fa7f-b162-4472-af2b-2b52b713fa02",
   "metadata": {},
   "outputs": [
    {
     "name": "stdout",
     "output_type": "stream",
     "text": [
      "Training for 50 steps ...\n",
      "Interval 1 (0 steps performed)\n",
      "    8/10000 [..............................] - ETA: 2:45 - reward: 0.0000e+00"
     ]
    },
    {
     "name": "stderr",
     "output_type": "stream",
     "text": [
      "C:\\Users\\erics\\AppData\\Local\\Programs\\Python\\Python39\\lib\\site-packages\\rl\\memory.py:37: UserWarning: Not enough entries to sample without replacement. Consider increasing your warm-up phase to avoid oversampling!\n",
      "  warnings.warn('Not enough entries to sample without replacement. Consider increasing your warm-up phase to avoid oversampling!')\n"
     ]
    },
    {
     "name": "stdout",
     "output_type": "stream",
     "text": [
      "   50/10000 [..............................] - ETA: 15:08 - reward: -0.0600done, took 4.801 seconds\n"
     ]
    }
   ],
   "source": [
    "with tf.device('/gpu:0'): #please use my GPU if it would recognise it :( (Probably is a problem with jupyter notebook)\n",
    "    dqn.fit(env, nb_steps=5000, visualize=False, verbose=1)"
   ]
  },
  {
   "cell_type": "code",
   "execution_count": 35,
   "id": "4b168e85-1c96-442a-9fc5-a6f62d2f6dc0",
   "metadata": {},
   "outputs": [],
   "source": [
    "# in ~\\AppData\\Local\\Programs\\Python\\Python39\\lib\\site-packages\\rl\\agents\\dqn.py \n",
    "# changed q_values = self.model.predict_on_batch(batch) (in line 63)\n",
    "# to              batch = batch[0, :, :, :, :] (added line)\n",
    "#\n",
    "# additionally line 297 changed to target_q_values = self.target_model.predict_on_batch(state1_batch[0,:,:,:,:])\n",
    "# from target_q_values = self.target_model.predict_on_batch(state1_batch)\n",
    "\n",
    "# changed all back to original\n",
    "# thinking that env adds [:,x,:,:,:] the x dimension. But i dont know why... ([sample number, ??? , dim picture, dim picture, rgb])"
   ]
  },
  {
   "cell_type": "code",
   "execution_count": 36,
   "id": "dff872ce-17f1-4d5b-9f68-4e92a3c2dc53",
   "metadata": {},
   "outputs": [],
   "source": [
    "checkpoint_path = r'C:\\Users\\erics\\Documents\\Programme\\RL Beispiel Projekt\\Model_Checkpoints'\n",
    "model.save_weights(checkpoint_path.format(epoch=0))"
   ]
  },
  {
   "cell_type": "code",
   "execution_count": 22,
   "id": "cdfc6361-17a9-4542-aa83-c15a4bf7d46d",
   "metadata": {},
   "outputs": [
    {
     "name": "stdout",
     "output_type": "stream",
     "text": [
      "Testing for 10 episodes ...\n",
      "Episode 1: reward: -21.000, steps: 248\n",
      "Episode 2: reward: -21.000, steps: 254\n",
      "Episode 3: reward: -21.000, steps: 255\n",
      "Episode 4: reward: -21.000, steps: 253\n",
      "Episode 5: reward: -21.000, steps: 251\n",
      "Episode 6: reward: -21.000, steps: 249\n",
      "Episode 7: reward: -21.000, steps: 253\n",
      "Episode 8: reward: -21.000, steps: 255\n",
      "Episode 9: reward: -21.000, steps: 254\n",
      "Episode 10: reward: -21.000, steps: 254\n",
      "-21.0\n"
     ]
    }
   ],
   "source": [
    "scores = dqn.test(env, nb_episodes=10, visualize=False)\n",
    "print(np.mean(scores.history['episode_reward']))"
   ]
  },
  {
   "cell_type": "code",
   "execution_count": 17,
   "id": "fb1c60e1-e39c-4a82-a5ac-2bf8b897585f",
   "metadata": {},
   "outputs": [
    {
     "data": {
      "text/plain": [
       "<tensorflow.python.training.tracking.util.CheckpointLoadStatus at 0x152070b06d0>"
      ]
     },
     "execution_count": 17,
     "metadata": {},
     "output_type": "execute_result"
    }
   ],
   "source": [
    "checkpoint_path = r'C:\\Users\\erics\\Documents\\Programme\\RL Beispiel Projekt\\Model_Checkpoints'\n",
    "model.load_weights(checkpoint_path)"
   ]
  },
  {
   "cell_type": "code",
   "execution_count": null,
   "id": "6330b51c-16a0-4153-b125-093bf2f3d067",
   "metadata": {},
   "outputs": [],
   "source": []
  }
 ],
 "metadata": {
  "kernelspec": {
   "display_name": "Python 3 (ipykernel)",
   "language": "python",
   "name": "python3"
  },
  "language_info": {
   "codemirror_mode": {
    "name": "ipython",
    "version": 3
   },
   "file_extension": ".py",
   "mimetype": "text/x-python",
   "name": "python",
   "nbconvert_exporter": "python",
   "pygments_lexer": "ipython3",
   "version": "3.9.5"
  }
 },
 "nbformat": 4,
 "nbformat_minor": 5
}
