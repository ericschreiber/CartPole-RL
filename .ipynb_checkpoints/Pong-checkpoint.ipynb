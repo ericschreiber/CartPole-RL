{
 "cells": [
  {
   "cell_type": "code",
   "execution_count": 12,
   "id": "d531e515-7511-41ba-950c-f27d719ff0a1",
   "metadata": {},
   "outputs": [],
   "source": [
    "import gym\n",
    "import sys\n",
    "import random\n",
    "import numpy as np\n",
    "import tensorflow as tf\n",
    "from tensorflow.keras.models import Sequential\n",
    "from tensorflow.keras.layers import Dense, Flatten\n",
    "from tensorflow.keras.optimizers import Adam\n",
    "from rl.agents import DQNAgent\n",
    "from rl.policy import BoltzmannQPolicy #Probalistic approch to also try some new paths from time to time\n",
    "from rl.memory import SequentialMemory"
   ]
  },
  {
   "cell_type": "code",
   "execution_count": 13,
   "id": "26bc6d45-f1db-4b73-a8fd-74c9e8fbe939",
   "metadata": {},
   "outputs": [],
   "source": [
    "from ale_py import ALEInterface, SDL_SUPPORT\n",
    "import atari_py\n",
    "\n",
    "ale = ALEInterface()\n",
    "ale.setInt(\"random_seed\", 123)\n",
    "\n",
    "ale.loadROM(atari_py.get_game_path('pong'))"
   ]
  },
  {
   "cell_type": "code",
   "execution_count": 14,
   "id": "d646366e-14b4-4142-ad20-345987ee0c12",
   "metadata": {},
   "outputs": [],
   "source": [
    "if SDL_SUPPORT:\n",
    "    ale.setBool(\"sound\", True)\n",
    "    ale.setBool(\"display_screen\", True)\n",
    "\n",
    "# Load the ROM file\n",
    "#rom_file = sys.argv[0]\n",
    "#ale.loadROM(rom_file)\n",
    "\n",
    "# Get the list of legal actions\n",
    "legal_actions = ale.getLegalActionSet()"
   ]
  },
  {
   "cell_type": "code",
   "execution_count": 17,
   "id": "8a678cda-bce9-40b6-a0b6-b009f3204aa2",
   "metadata": {},
   "outputs": [
    {
     "name": "stdout",
     "output_type": "stream",
     "text": [
      "[<Action.NOOP: 0>, <Action.FIRE: 1>, <Action.UP: 2>, <Action.RIGHT: 3>, <Action.LEFT: 4>, <Action.DOWN: 5>, <Action.UPRIGHT: 6>, <Action.UPLEFT: 7>, <Action.DOWNRIGHT: 8>, <Action.DOWNLEFT: 9>, <Action.UPFIRE: 10>, <Action.RIGHTFIRE: 11>, <Action.LEFTFIRE: 12>, <Action.DOWNFIRE: 13>, <Action.UPRIGHTFIRE: 14>, <Action.UPLEFTFIRE: 15>, <Action.DOWNRIGHTFIRE: 16>, <Action.DOWNLEFTFIRE: 17>]\n"
     ]
    }
   ],
   "source": [
    "print(legal_actions)"
   ]
  },
  {
   "cell_type": "code",
   "execution_count": 15,
   "id": "a6b424e4-4d5e-4ea6-9f19-34a97be42563",
   "metadata": {},
   "outputs": [
    {
     "name": "stdout",
     "output_type": "stream",
     "text": [
      "Episode 0 ended with score: -18\n",
      "Episode 1 ended with score: -21\n",
      "Episode 2 ended with score: -21\n",
      "Episode 3 ended with score: -20\n",
      "Episode 4 ended with score: -21\n",
      "Episode 5 ended with score: -21\n",
      "Episode 6 ended with score: -21\n",
      "Episode 7 ended with score: -20\n",
      "Episode 8 ended with score: -20\n",
      "Episode 9 ended with score: -21\n"
     ]
    }
   ],
   "source": [
    "for episode in range(10):\n",
    "    total_reward = 0\n",
    "    while not ale.game_over():\n",
    "        a = legal_actions[random.randrange(len(legal_actions))]\n",
    "        # Apply an action and get the resulting reward\n",
    "        reward = ale.act(a)\n",
    "        total_reward += reward\n",
    "    print(\"Episode %d ended with score: %d\" % (episode, total_reward))\n",
    "    ale.reset_game()"
   ]
  },
  {
   "cell_type": "code",
   "execution_count": null,
   "id": "db1963e2-19b9-4f0a-babe-5c92441d9834",
   "metadata": {},
   "outputs": [],
   "source": []
  }
 ],
 "metadata": {
  "kernelspec": {
   "display_name": "Python 3 (ipykernel)",
   "language": "python",
   "name": "python3"
  },
  "language_info": {
   "codemirror_mode": {
    "name": "ipython",
    "version": 3
   },
   "file_extension": ".py",
   "mimetype": "text/x-python",
   "name": "python",
   "nbconvert_exporter": "python",
   "pygments_lexer": "ipython3",
   "version": "3.9.5"
  }
 },
 "nbformat": 4,
 "nbformat_minor": 5
}
