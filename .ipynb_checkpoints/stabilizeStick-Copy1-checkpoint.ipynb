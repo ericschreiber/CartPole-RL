{
 "cells": [
  {
   "cell_type": "code",
   "execution_count": 2,
   "id": "d531e515-7511-41ba-950c-f27d719ff0a1",
   "metadata": {},
   "outputs": [],
   "source": [
    "import gym\n",
    "import random\n",
    "import numpy as np\n",
    "import tensorflow as tf\n",
    "from tensorflow.keras.models import Sequential\n",
    "from tensorflow.keras.layers import Dense, Flatten\n",
    "from tensorflow.keras.optimizers import Adam\n",
    "from rl.agents import DQNAgent\n",
    "from rl.policy import BoltzmannQPolicy #Probalistic approch to also try some new paths from time to time\n",
    "from rl.memory import SequentialMemory"
   ]
  },
  {
   "cell_type": "code",
   "execution_count": 3,
   "id": "1c10a69b-6fd8-40f8-afd0-9e11e4222b99",
   "metadata": {},
   "outputs": [],
   "source": [
    "env = gym.make('CartPole-v0')\n",
    "states = env.observation_space.shape[0]\n",
    "actions = env.action_space.n"
   ]
  },
  {
   "cell_type": "code",
   "execution_count": 4,
   "id": "161f6c8c-bf32-40ca-90e8-f281d00886ad",
   "metadata": {},
   "outputs": [
    {
     "name": "stdout",
     "output_type": "stream",
     "text": [
      "Episodes:1 Score:46.0\n",
      "Episodes:2 Score:14.0\n",
      "Episodes:3 Score:28.0\n",
      "Episodes:4 Score:21.0\n",
      "Episodes:5 Score:26.0\n",
      "Episodes:6 Score:20.0\n",
      "Episodes:7 Score:15.0\n",
      "Episodes:8 Score:39.0\n",
      "Episodes:9 Score:13.0\n",
      "Episodes:10 Score:35.0\n"
     ]
    }
   ],
   "source": [
    "#random inputs for visualisation\n",
    "for episodes in range(1, 11):\n",
    "    state = env.reset()\n",
    "    done = False\n",
    "    score = 0\n",
    "    \n",
    "    while not done:\n",
    "        env.render()\n",
    "        action = random.choice([0,1])\n",
    "        n_state, reward, done, info = env.step(action)\n",
    "        score += reward\n",
    "    print('Episodes:{} Score:{}'.format(episodes, score))"
   ]
  },
  {
   "cell_type": "code",
   "execution_count": 5,
   "id": "ee440805-b86a-4499-b8c2-fa5f26c99889",
   "metadata": {},
   "outputs": [],
   "source": [
    "#build model: input layer -> 2x fully connected -> output layer\n",
    "def build_model(states, actions):\n",
    "    model = Sequential()\n",
    "    model.add(Flatten(input_shape=(1,states)))\n",
    "    model.add(Dense(24, activation='relu'))\n",
    "    model.add(Dense(24, activation='relu'))\n",
    "    model.add(Dense(actions, activation='linear'))\n",
    "    return model\n",
    "    "
   ]
  },
  {
   "cell_type": "code",
   "execution_count": 6,
   "id": "7ff4cf49-3a42-4b00-b939-443fd1dae88b",
   "metadata": {},
   "outputs": [],
   "source": [
    "model = build_model(states, actions)"
   ]
  },
  {
   "cell_type": "code",
   "execution_count": 7,
   "id": "fb93f6d5-c4d9-4b81-9244-02ee3674f42e",
   "metadata": {},
   "outputs": [],
   "source": [
    "def build_agent(model, actions):\n",
    "    policy = BoltzmannQPolicy()\n",
    "    memory = SequentialMemory(limit=5000, window_length=1)\n",
    "    dqn = DQNAgent(model=model, memory=memory, policy=policy, nb_actions=actions, nb_steps_warmup=10, target_model_update=1e-2)\n",
    "    return dqn"
   ]
  },
  {
   "cell_type": "code",
   "execution_count": 8,
   "id": "765ff07d-ac84-4a09-b2f2-5df8df8ed9e6",
   "metadata": {},
   "outputs": [
    {
     "name": "stdout",
     "output_type": "stream",
     "text": [
      "Num GPUs Available:  0\n"
     ]
    }
   ],
   "source": [
    "import sys\n",
    "print(\"Num GPUs Available: \", len(tf.config.list_physical_devices('GPU'))) #i dont know why it does not find my GPU :("
   ]
  },
  {
   "cell_type": "code",
   "execution_count": 36,
   "id": "24806ba2-effb-46f3-aac3-ca272c3ad4ac",
   "metadata": {},
   "outputs": [
    {
     "name": "stdout",
     "output_type": "stream",
     "text": [
      "Training for 50000 steps ...\n",
      "Interval 1 (0 steps performed)\n",
      "10000/10000 [==============================] - 81s 8ms/step - reward: 1.0000\n",
      "56 episodes - episode_reward: 177.911 [30.000, 200.000] - loss: 7.864 - mae: 43.367 - mean_q: 87.101\n",
      "\n",
      "Interval 2 (10000 steps performed)\n",
      "10000/10000 [==============================] - 88s 9ms/step - reward: 1.0000\n",
      "50 episodes - episode_reward: 197.720 [86.000, 200.000] - loss: 13.471 - mae: 44.058 - mean_q: 88.082\n",
      "\n",
      "Interval 3 (20000 steps performed)\n",
      "10000/10000 [==============================] - 89s 9ms/step - reward: 1.0000\n",
      "53 episodes - episode_reward: 191.113 [39.000, 200.000] - loss: 18.558 - mae: 44.452 - mean_q: 88.705\n",
      "\n",
      "Interval 4 (30000 steps performed)\n",
      "10000/10000 [==============================] - 82s 8ms/step - reward: 1.0000\n",
      "50 episodes - episode_reward: 200.000 [200.000, 200.000] - loss: 18.796 - mae: 44.481 - mean_q: 88.678\n",
      "\n",
      "Interval 5 (40000 steps performed)\n",
      "10000/10000 [==============================] - 82s 8ms/step - reward: 1.0000\n",
      "done, took 421.072 seconds\n"
     ]
    },
    {
     "data": {
      "text/plain": [
       "<tensorflow.python.keras.callbacks.History at 0x258a313b610>"
      ]
     },
     "execution_count": 36,
     "metadata": {},
     "output_type": "execute_result"
    }
   ],
   "source": [
    "dqn = build_agent(model, actions)\n",
    "dqn.compile(Adam(learning_rate=1e-3), metrics=['mae'])\n",
    "#with tf.device('/gpu:0'): #please use my GPU if it would recognise it :(\n",
    "dqn.fit(env, nb_steps=50000, visualize=False, verbose=1)"
   ]
  },
  {
   "cell_type": "code",
   "execution_count": 34,
   "id": "54818607-57f7-49ec-a97e-692368cd396f",
   "metadata": {},
   "outputs": [
    {
     "name": "stdout",
     "output_type": "stream",
     "text": [
      "Testing for 100 episodes ...\n",
      "Episode 1: reward: 200.000, steps: 200\n",
      "Episode 2: reward: 200.000, steps: 200\n",
      "Episode 3: reward: 200.000, steps: 200\n",
      "Episode 4: reward: 195.000, steps: 195\n",
      "Episode 5: reward: 186.000, steps: 186\n",
      "Episode 6: reward: 200.000, steps: 200\n",
      "Episode 7: reward: 200.000, steps: 200\n",
      "Episode 8: reward: 200.000, steps: 200\n",
      "Episode 9: reward: 200.000, steps: 200\n",
      "Episode 10: reward: 188.000, steps: 188\n",
      "Episode 11: reward: 200.000, steps: 200\n",
      "Episode 12: reward: 200.000, steps: 200\n",
      "Episode 13: reward: 196.000, steps: 196\n",
      "Episode 14: reward: 196.000, steps: 196\n",
      "Episode 15: reward: 200.000, steps: 200\n",
      "Episode 16: reward: 189.000, steps: 189\n",
      "Episode 17: reward: 200.000, steps: 200\n",
      "Episode 18: reward: 200.000, steps: 200\n",
      "Episode 19: reward: 200.000, steps: 200\n",
      "Episode 20: reward: 200.000, steps: 200\n",
      "Episode 21: reward: 200.000, steps: 200\n",
      "Episode 22: reward: 200.000, steps: 200\n",
      "Episode 23: reward: 194.000, steps: 194\n",
      "Episode 24: reward: 200.000, steps: 200\n",
      "Episode 25: reward: 199.000, steps: 199\n",
      "Episode 26: reward: 190.000, steps: 190\n",
      "Episode 27: reward: 195.000, steps: 195\n",
      "Episode 28: reward: 194.000, steps: 194\n",
      "Episode 29: reward: 194.000, steps: 194\n",
      "Episode 30: reward: 193.000, steps: 193\n",
      "Episode 31: reward: 199.000, steps: 199\n",
      "Episode 32: reward: 200.000, steps: 200\n",
      "Episode 33: reward: 188.000, steps: 188\n",
      "Episode 34: reward: 190.000, steps: 190\n",
      "Episode 35: reward: 193.000, steps: 193\n",
      "Episode 36: reward: 198.000, steps: 198\n",
      "Episode 37: reward: 190.000, steps: 190\n",
      "Episode 38: reward: 200.000, steps: 200\n",
      "Episode 39: reward: 200.000, steps: 200\n",
      "Episode 40: reward: 200.000, steps: 200\n",
      "Episode 41: reward: 200.000, steps: 200\n",
      "Episode 42: reward: 200.000, steps: 200\n",
      "Episode 43: reward: 192.000, steps: 192\n",
      "Episode 44: reward: 200.000, steps: 200\n",
      "Episode 45: reward: 189.000, steps: 189\n",
      "Episode 46: reward: 192.000, steps: 192\n",
      "Episode 47: reward: 200.000, steps: 200\n",
      "Episode 48: reward: 200.000, steps: 200\n",
      "Episode 49: reward: 200.000, steps: 200\n",
      "Episode 50: reward: 198.000, steps: 198\n",
      "Episode 51: reward: 200.000, steps: 200\n",
      "Episode 52: reward: 199.000, steps: 199\n",
      "Episode 53: reward: 200.000, steps: 200\n",
      "Episode 54: reward: 200.000, steps: 200\n",
      "Episode 55: reward: 194.000, steps: 194\n",
      "Episode 56: reward: 200.000, steps: 200\n",
      "Episode 57: reward: 200.000, steps: 200\n",
      "Episode 58: reward: 198.000, steps: 198\n",
      "Episode 59: reward: 200.000, steps: 200\n",
      "Episode 60: reward: 196.000, steps: 196\n",
      "Episode 61: reward: 189.000, steps: 189\n",
      "Episode 62: reward: 192.000, steps: 192\n",
      "Episode 63: reward: 200.000, steps: 200\n",
      "Episode 64: reward: 192.000, steps: 192\n",
      "Episode 65: reward: 200.000, steps: 200\n",
      "Episode 66: reward: 194.000, steps: 194\n",
      "Episode 67: reward: 200.000, steps: 200\n",
      "Episode 68: reward: 192.000, steps: 192\n",
      "Episode 69: reward: 200.000, steps: 200\n",
      "Episode 70: reward: 200.000, steps: 200\n",
      "Episode 71: reward: 188.000, steps: 188\n",
      "Episode 72: reward: 188.000, steps: 188\n",
      "Episode 73: reward: 194.000, steps: 194\n",
      "Episode 74: reward: 200.000, steps: 200\n",
      "Episode 75: reward: 192.000, steps: 192\n",
      "Episode 76: reward: 200.000, steps: 200\n",
      "Episode 77: reward: 200.000, steps: 200\n",
      "Episode 78: reward: 196.000, steps: 196\n",
      "Episode 79: reward: 200.000, steps: 200\n",
      "Episode 80: reward: 200.000, steps: 200\n",
      "Episode 81: reward: 198.000, steps: 198\n",
      "Episode 82: reward: 200.000, steps: 200\n",
      "Episode 83: reward: 200.000, steps: 200\n",
      "Episode 84: reward: 200.000, steps: 200\n",
      "Episode 85: reward: 195.000, steps: 195\n",
      "Episode 86: reward: 192.000, steps: 192\n",
      "Episode 87: reward: 191.000, steps: 191\n",
      "Episode 88: reward: 200.000, steps: 200\n",
      "Episode 89: reward: 193.000, steps: 193\n",
      "Episode 90: reward: 200.000, steps: 200\n",
      "Episode 91: reward: 200.000, steps: 200\n",
      "Episode 92: reward: 197.000, steps: 197\n",
      "Episode 93: reward: 186.000, steps: 186\n",
      "Episode 94: reward: 200.000, steps: 200\n",
      "Episode 95: reward: 200.000, steps: 200\n",
      "Episode 96: reward: 200.000, steps: 200\n",
      "Episode 97: reward: 198.000, steps: 198\n",
      "Episode 98: reward: 200.000, steps: 200\n",
      "Episode 99: reward: 200.000, steps: 200\n",
      "Episode 100: reward: 200.000, steps: 200\n",
      "196.92\n"
     ]
    }
   ],
   "source": [
    "#test our net\n",
    "scores = dqn.test(env, nb_episodes=100, visualize=False)\n",
    "print(np.mean(scores.history['episode_reward']))"
   ]
  },
  {
   "cell_type": "code",
   "execution_count": null,
   "id": "1a668331-5e64-4501-8d51-5f156a35c430",
   "metadata": {},
   "outputs": [],
   "source": []
  }
 ],
 "metadata": {
  "kernelspec": {
   "display_name": "Python 3 (ipykernel)",
   "language": "python",
   "name": "python3"
  },
  "language_info": {
   "codemirror_mode": {
    "name": "ipython",
    "version": 3
   },
   "file_extension": ".py",
   "mimetype": "text/x-python",
   "name": "python",
   "nbconvert_exporter": "python",
   "pygments_lexer": "ipython3",
   "version": "3.9.5"
  }
 },
 "nbformat": 4,
 "nbformat_minor": 5
}
